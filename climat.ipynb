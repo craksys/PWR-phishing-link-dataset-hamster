{
 "cells": [
  {
   "cell_type": "code",
   "execution_count": null,
   "id": "ceafb1fb",
   "metadata": {},
   "outputs": [],
   "source": [
    "import pandas as pd\n",
    "from pandas import DataFrame\n",
    "from matplotlib import pyplot\n",
    "from statsmodels.tsa.arima.model import ARIMA\n",
    "\n",
    "df = pd.read_csv('data/DailyDelhiClimateTrain.csv', low_memory=False)\n",
    "print(df.head())\n",
    "df.describe()\n",
    "#print number of rows\n",
    "print(\"number of rows: \" + str(df.shape[0]))\n"
   ]
  },
  {
   "cell_type": "code",
   "execution_count": null,
   "id": "25fae945",
   "metadata": {},
   "outputs": [],
   "source": [
    "df.plot()\n",
    "pyplot.show()"
   ]
  },
  {
   "cell_type": "code",
   "execution_count": null,
   "id": "0314624e",
   "metadata": {},
   "outputs": [],
   "source": [
    "df['date'] = pd.to_datetime(df['date'])\n",
    "df.set_index('date', inplace=True)\n",
    "model = ARIMA(df['meantemp'], order=(5,1,0))\n",
    "model_fit = model.fit()\n",
    "# summary of fit model\n",
    "print(model_fit.summary())\n",
    "# line plot of residuals\n",
    "residuals = DataFrame(model_fit.resid)\n",
    "residuals.plot()\n",
    "pyplot.show()\n",
    "# density plot of residuals\n",
    "residuals.plot(kind='kde')\n",
    "pyplot.show()\n",
    "# summary stats of residuals\n",
    "print(residuals.describe())"
   ]
  },
  {
   "cell_type": "markdown",
   "id": "cca0d148",
   "metadata": {},
   "source": [
    "# Create model to predict temperature"
   ]
  },
  {
   "cell_type": "code",
   "execution_count": null,
   "id": "9bcefccf",
   "metadata": {},
   "outputs": [],
   "source": [
    "import pandas as pd\n",
    "import numpy as np\n",
    "from matplotlib import pyplot as plt\n",
    "from statsmodels.tsa.arima.model import ARIMA\n",
    "from sklearn.linear_model import LinearRegression\n",
    "import shap\n",
    "\n",
    "# Assuming df is already loaded with the 'meantemp', 'date', and 'label_column' columns\n",
    "# df = pd.read_csv('your_data.csv')\n",
    "\n",
    "# Ensure 'date' column is of datetime type\n",
    "df['date'] = pd.to_datetime(df['date'])\n",
    "\n",
    "# Split into train and test sets\n",
    "X = df['meantemp'].values\n",
    "labels = ['date', 'meantemp', 'humidity', 'wind_speed', 'meanpressure']\n",
    "dates = df['date'].values\n",
    "size = int(len(X) * 0.95)\n",
    "train, test = X[0:size], X[size:len(X)]\n",
    "train_dates, test_dates = dates[0:size], dates[size:len(X)]\n",
    "\n",
    "history = [x for x in train]\n",
    "predictions = list()\n",
    "\n",
    "# Walk-forward validation\n",
    "for t in range(len(test)):\n",
    "    model = ARIMA(history, order=(5,1,0))\n",
    "    model_fit = model.fit()\n",
    "    output = model_fit.forecast()\n",
    "    yhat = output[0]\n",
    "    predictions.append(yhat)\n",
    "    obs = test[t]\n",
    "    history.append(obs)\n",
    "    print('predicted=%f, expected=%f' % (yhat, obs))\n",
    "\n",
    "# Evaluate forecasts\n",
    "plt.figure(figsize=(12, 6))\n",
    "plt.plot(test_dates, test, label='Test', color='blue')\n",
    "plt.plot(test_dates, predictions, color='red', label='Predictions')\n",
    "# Add description to plot\n",
    "plt.title('Mean Temperature')\n",
    "plt.xlabel('Date')\n",
    "plt.ylabel('Temperature')\n",
    "plt.legend()\n",
    "plt.show()\n",
    "\n",
    "# Create and fit the final ARIMA model\n",
    "model = ARIMA(X, order=(5,1,0))\n",
    "model_fit = model.fit()\n",
    "\n",
    "# Generate lagged features for SHAP\n",
    "def create_lagged_features(series, labels, lag=5):\n",
    "    X, y, feature_labels = [], [], []\n",
    "    for i in range(lag, len(series)):\n",
    "        X.append(series[i-lag:i])\n",
    "        y.append(series[i])\n",
    "        feature_labels.append(labels[i-lag:i])  # Append the labels corresponding to the lagged values\n",
    "    return np.array(X), np.array(y), feature_labels\n",
    "\n",
    "lag = 5\n",
    "X_lagged, y_lagged, feature_labels = create_lagged_features(X, labels, lag=lag)\n",
    "\n",
    "# Fit a simple linear regression model on lagged features\n",
    "lr_model = LinearRegression()\n",
    "lr_model.fit(X_lagged, y_lagged)\n",
    "\n",
    "# Create SHAP explainer\n",
    "explainer = shap.LinearExplainer(lr_model, X_lagged)\n",
    "shap_values = explainer.shap_values(X_lagged)\n",
    "\n",
    "# Use real labels from df for feature names\n",
    "feature_names = [label for label_set in feature_labels for label in label_set]\n",
    "\n",
    "# Plot SHAP values\n",
    "shap.summary_plot(shap_values, X_lagged, feature_names=feature_names[:X_lagged.shape[1]])\n",
    "\n"
   ]
  },
  {
   "cell_type": "code",
   "execution_count": null,
   "id": "5dc6af67",
   "metadata": {},
   "outputs": [],
   "source": []
  },
  {
   "cell_type": "markdown",
   "id": "bf095d03",
   "metadata": {},
   "source": [
    "# evaluate with SHAP"
   ]
  }
 ],
 "metadata": {
  "kernelspec": {
   "display_name": "Python 3 (ipykernel)",
   "language": "python",
   "name": "python3"
  },
  "language_info": {
   "codemirror_mode": {
    "name": "ipython",
    "version": 3
   },
   "file_extension": ".py",
   "mimetype": "text/x-python",
   "name": "python",
   "nbconvert_exporter": "python",
   "pygments_lexer": "ipython3",
   "version": "3.11.9"
  }
 },
 "nbformat": 4,
 "nbformat_minor": 5
}
